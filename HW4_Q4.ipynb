{
  "nbformat": 4,
  "nbformat_minor": 0,
  "metadata": {
    "colab": {
      "name": "HW#4_Q4_P2.ipynb",
      "provenance": [],
      "collapsed_sections": []
    },
    "kernelspec": {
      "name": "python3",
      "display_name": "Python 3"
    },
    "language_info": {
      "name": "python"
    }
  },
  "cells": [
    {
      "cell_type": "code",
      "execution_count": 1,
      "metadata": {
        "colab": {
          "base_uri": "https://localhost:8080/",
          "height": 282
        },
        "id": "hi-ulSZnE6iN",
        "outputId": "f708663d-97f0-4eee-d7a2-1d8105686619"
      },
      "outputs": [
        {
          "output_type": "execute_result",
          "data": {
            "text/plain": [
              "[<matplotlib.lines.Line2D at 0x7f67e51e82d0>]"
            ]
          },
          "metadata": {},
          "execution_count": 1
        },
        {
          "output_type": "display_data",
          "data": {
            "image/png": "[encoded data removed]",
            "text/plain": [
              "<Figure size 432x288 with 1 Axes>"
            ]
          },
          "metadata": {
            "needs_background": "light"
          }
        }
      ],
      "source": [
        "from random import randint\n",
        "import matplotlib.pyplot as plt\n",
        "\n",
        " \n",
        "NUM_POSSIBLE_BIRTHDAYS = 365\n",
        "NUM_TRIALS = 10000\n",
        " \n",
        " \n",
        "def generate_random_birthday():\n",
        "    birthday = randint(1, NUM_POSSIBLE_BIRTHDAYS)\n",
        "    return birthday\n",
        " \n",
        " \n",
        "def generate_k_birthdays(k):\n",
        "    birthdays = [generate_random_birthday() for _ in range(k)]\n",
        "    return birthdays\n",
        " \n",
        " \n",
        "def aloc(birthdays):\n",
        "    unique_birthdays = set(birthdays)\n",
        " \n",
        "    num_birthdays = len(birthdays)\n",
        "    num_unique_birthdays = len(unique_birthdays)\n",
        "    has_coincidence = (num_birthdays != num_unique_birthdays)\n",
        " \n",
        "    return has_coincidence\n",
        " \n",
        " \n",
        "def estimate_p_aloc(NUM_PEOPLE):\n",
        "    num_aloc = 0\n",
        "    for _ in range(NUM_TRIALS):\n",
        "        birthdays = generate_k_birthdays(NUM_PEOPLE)\n",
        "        has_coincidence = aloc(birthdays)\n",
        "        if has_coincidence:\n",
        "            num_aloc += 1\n",
        " \n",
        "    p_aloc = num_aloc / NUM_TRIALS\n",
        "    return p_aloc\n",
        " \n",
        "n=100\n",
        "p_aloc = [estimate_p_aloc(NUM_PEOPLE) for NUM_PEOPLE in range(n)] \n",
        "\n",
        "plt.plot(range(n), p_aloc)\n",
        "\n"
      ]
    },
    {
      "cell_type": "code",
      "source": [
        "print (p_aloc)"
      ],
      "metadata": {
        "colab": {
          "base_uri": "https://localhost:8080/"
        },
        "id": "GC6QQ062FkX0",
        "outputId": "15cb2944-4860-4391-b8ab-8775d007f08e"
      },
      "execution_count": null,
      "outputs": [
        {
          "output_type": "stream",
          "name": "stdout",
          "text": [
            "[0.0, 0.0, 0.0, 0.0, 0.1, 0.0, 0.1, 0.0, 0.0, 0.0, 0.1, 0.1, 0.1, 0.1, 0.0, 0.4, 0.2, 0.2, 0.3, 0.2, 0.7, 0.1, 0.4, 0.5, 0.5, 0.3, 0.6, 0.8, 0.6, 0.6, 0.4, 0.8, 0.9, 0.5, 0.7, 0.5, 0.9, 0.6, 1.0, 1.0, 0.9, 0.7, 0.9, 0.8, 1.0, 0.9, 0.9, 1.0, 1.0, 1.0, 1.0, 1.0, 0.9, 1.0, 1.0, 1.0, 1.0, 1.0, 1.0, 1.0, 1.0, 1.0, 1.0, 1.0, 1.0, 1.0, 1.0, 1.0, 1.0, 1.0, 1.0, 1.0, 1.0, 1.0, 1.0, 1.0, 1.0, 1.0, 1.0, 1.0, 1.0, 1.0, 1.0, 1.0, 1.0, 1.0, 1.0, 1.0, 1.0, 1.0, 1.0, 1.0, 1.0, 1.0, 1.0, 1.0, 1.0, 1.0, 1.0, 1.0]\n"
          ]
        }
      ]
    },
    {
      "cell_type": "code",
      "source": [
        "# Importing necessary libraries\n",
        "import pandas as pd, numpy as np\n",
        "import matplotlib.pyplot as plt\n",
        "%matplotlib inline\n",
        "import seaborn as sns\n",
        "\n",
        "\n",
        "# rate parameter for the exponentially distributed population\n",
        "rate = 2\n",
        "\n",
        "#Population mean\n",
        "mu = 1/rate\n",
        "\n",
        "# Population standard deviation\n",
        "sd = np.sqrt(1/(rate**2))\n",
        "\n",
        "# drawing 50 random samples of size 500\n",
        "sample_size=10000\n",
        "\n",
        "s = 1000\n",
        "\n",
        "exponential_sample = np.empty((s, sample_size),float)\n",
        "for i in range(s):\n",
        "    exponential_sample[i,:] = np.random.exponential((1/rate), sample_size)\n",
        "\n",
        "\n",
        "sns.distplot(exponential_sample.mean(axis=1))\n",
        "\n",
        "print ('standard_deviation_mean_samples = ',exponential_sample.mean(axis=1).std())\n",
        "\n",
        "print ('sample_means = ',exponential_sample.mean(axis=1).mean())\n"
      ],
      "metadata": {
        "colab": {
          "base_uri": "https://localhost:8080/",
          "height": 300
        },
        "id": "RjlKHGVhGxDL",
        "outputId": "b430be9b-96c8-407d-f955-0f16a3518bc5"
      },
      "execution_count": 27,
      "outputs": [
        {
          "output_type": "stream",
          "name": "stdout",
          "text": [
            "standard_deviation_mean_samples =  0.005133540331658411\n",
            "sample_means =  0.5002400813024328\n"
          ]
        },
        {
          "output_type": "display_data",
          "data": {
            "image/png": "[encoded data removed]",
            "text/plain": [
              "<Figure size 432x288 with 1 Axes>"
            ]
          },
          "metadata": {
            "needs_background": "light"
          }
        }
      ]
    },
    {
      "cell_type": "code",
      "source": [
        "import pandas as pd, numpy as np\n",
        "import matplotlib.pyplot as plt\n",
        "%matplotlib inline\n",
        "import seaborn as sns\n",
        "\n",
        "\n",
        "# rate parameter for the exponentially distributed population\n",
        "\n",
        "#Population mean\n",
        "mu = 1/rate\n",
        "\n",
        "# Population standard deviation\n",
        "sd = np.sqrt(1/(rate**2))\n",
        "\n",
        "# drawing 50 random samples of size 500\n",
        "sample_size=10000\n",
        "\n",
        "s = 1000\n",
        "\n",
        "binom_sample = np.empty((s, sample_size),float)\n",
        "for i in range(s):\n",
        "    binom_sample[i,:] = np.random.binomial(20, 0.8, sample_size)\n",
        "\n",
        "\n",
        "sns.distplot(binom_sample.mean(axis=1))\n",
        "\n",
        "\n",
        "print ('standard_deviation_mean_samples = ',binom_sample.mean(axis=1).std())\n",
        "\n",
        "print ('sample_means = ',binom_sample.mean(axis=1).mean())"
      ],
      "metadata": {
        "colab": {
          "base_uri": "https://localhost:8080/",
          "height": 300
        },
        "id": "r_l9PdcKfwSr",
        "outputId": "b8d58a08-7970-443d-925a-ef5bcedd8b89"
      },
      "execution_count": 28,
      "outputs": [
        {
          "output_type": "stream",
          "name": "stdout",
          "text": [
            "standard_deviation_mean_samples =  0.017719414729612287\n",
            "sample_means =  15.9996858\n"
          ]
        },
        {
          "output_type": "display_data",
          "data": {
            "image/png": "[encoded data removed]",
            "text/plain": [
              "<Figure size 432x288 with 1 Axes>"
            ]
          },
          "metadata": {
            "needs_background": "light"
          }
        }
      ]
    }
  ]
}