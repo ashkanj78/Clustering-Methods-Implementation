{
  "nbformat": 4,
  "nbformat_minor": 0,
  "metadata": {
    "colab": {
      "name": "HW4_Q2.ipynb",
      "provenance": [],
      "collapsed_sections": []
    },
    "kernelspec": {
      "name": "python3",
      "display_name": "Python 3"
    },
    "language_info": {
      "name": "python"
    }
  },
  "cells": [
    {
      "cell_type": "code",
      "execution_count": 12,
      "metadata": {
        "id": "9nM9z3CJOmIq",
        "colab": {
          "base_uri": "https://localhost:8080/",
          "height": 473
        },
        "outputId": "b52e0c95-acf8-4a91-af9c-10f1197d3e67"
      },
      "outputs": [
        {
          "output_type": "stream",
          "name": "stdout",
          "text": [
            "Standard_Deviation of Cluster 0 is= 1.843716287827387\n",
            "Mean of Cluster 0 is= 2.5355\n",
            "Standard_Deviation of Cluster 1 is= 1.4577379737113252\n",
            "Mean of Cluster 1 is= 2.9\n",
            "Standard_Deviation of Cluster 2 is= 1.9868106054266816\n",
            "Mean of Cluster 2 is= 4.49765625\n",
            "Standard_Deviation of Cluster 3 is= 1.8013231898732107\n",
            "Mean of Cluster 3 is= 3.886874999999999\n",
            "Standard_Deviation of Cluster 4 is= 1.6336468661657984\n",
            "Mean of Cluster 4 is= 3.4125\n",
            "ratio of intra over inter= 0.07490582457093779\n"
          ]
        },
        {
          "output_type": "execute_result",
          "data": {
            "text/plain": [
              "[<matplotlib.lines.Line2D at 0x7f2390ca6110>]"
            ]
          },
          "metadata": {},
          "execution_count": 12
        },
        {
          "output_type": "display_data",
          "data": {
            "image/png": "[encoded data removed]",
            "text/plain": [
              "<Figure size 432x288 with 1 Axes>"
            ]
          },
          "metadata": {
            "needs_background": "light"
          }
        }
      ],
      "source": [
        "from numpy import genfromtxt\n",
        "import matplotlib.pyplot as plt\n",
        "from random import randrange\n",
        "import numpy as np\n",
        "from sklearn.datasets import load_iris \n",
        "\n",
        "\n",
        "iris = load_iris()\n",
        "data = iris.data\n",
        "num_clusters = 5\n",
        "iter = 150\n",
        "\n",
        "\n",
        "\n",
        "def distance(point1, point2):\n",
        "\tdis = point1-point2\n",
        "\treturn (np.dot(dis, dis))**.5\n",
        "\n",
        "def create_centroids(data, num_clusters):\n",
        "\tcentroids = []\n",
        "\ta,b = np.shape(data)\n",
        "\tfor j in range(0, num_clusters):\n",
        "\t\ttemp = []\n",
        "\t\tfor i in range(0, b):\n",
        "\t\t\tmaxx = int(max(data[:,i]))\n",
        "\t\t\tminx = int(min(data[:,i]))\n",
        "\t\t\ttemp.append(randrange(minx, maxx)) # Each iteration create a coordinate foe each centroid\n",
        "\t\tcentroids.append(temp)\n",
        "\treturn np.asarray(centroids)\n",
        " \n",
        "def label(data, centroids):\n",
        "\tm, n = np.shape(data)\n",
        "\tlab = []\n",
        "\tfor i in range(0, m):\n",
        "\t\tdis = []\n",
        "\t\tx, y = np.shape(centroids)\n",
        "\t\tfor j in range(0,x): #Move on each centroid\n",
        "\t\t\tdis.append(distance(centroids[j,:], data[i, :]))\n",
        "\t\tlab.append(np.argmin(dis))\n",
        "\treturn np.asarray(lab)\n",
        " \n",
        "def update_centroids(data, labels, centroids):\n",
        "    m, n = np.shape(centroids) #m is the number of centroids\n",
        "    temp_centroid = np.zeros((m,n))\n",
        "    count = np.zeros((m,n))\n",
        "    for j in range(0, len(labels)):\n",
        "        for k in range(0, n):\n",
        "            temp_centroid[labels[j],k]+= data[j,k]\n",
        "            count[labels[j],k]+= 1\n",
        "    for i in range(0,m):\n",
        "        for j in range(0,n):\n",
        "            if count[i,j] == 0:\n",
        "                count[i,j] += 1\n",
        "    return temp_centroid/count\n",
        "\n",
        "def interclus(label,data):\n",
        "  S=0\n",
        "  for i in range(data.shape[0]):\n",
        "    for j in range(data.shape[0]):\n",
        "      S = S + distance(data[i,:],data[j,:])\n",
        "  S = S/2\n",
        "  return S - intraclus(label,data)\n",
        "\n",
        "\n",
        "def intraclus(label,data):\n",
        "  l = num_clusters\n",
        "  T = np.zeros(l)\n",
        "  for k in range(l):\n",
        "    a = data[label==k]\n",
        "    #print(a)\n",
        "    for i in range(len(a)):\n",
        "      for j in range(len(a)):\n",
        "        T[k] += (distance(a[i,:],a[j,:]))\n",
        "    T[k]=T[k]/2\n",
        "  return T.sum()\n",
        "\n",
        "centroids = create_centroids(data, num_clusters)   \n",
        "labels = label(data, centroids)\n",
        "cost = np.zeros(iter)\n",
        "for i in range(iter):\n",
        "  centroids = update_centroids(data, labels, centroids)\n",
        "  labels = label(data, centroids)\n",
        "  cost[i] = intraclus(labels,data)\n",
        "\n",
        "#print(cost)\n",
        "\n",
        "for i in range(num_clusters):\n",
        "  print ('Standard_Deviation of Cluster {} is= {}'.format(i,data[labels==i].std()))\n",
        "  print ('Mean of Cluster {} is= {}'.format(i,data[labels==i].mean()))\n",
        "\n",
        "\n",
        "print ('ratio of intra over inter=', cost[-1]/interclus(label,data))\n",
        "\n",
        "plt.plot(range(iter),cost)\n",
        "\n"
      ]
    },
    {
      "cell_type": "code",
      "source": [
        "from numpy import genfromtxt\n",
        "import matplotlib.pyplot as plt\n",
        "from random import randrange\n",
        "import numpy as np\n",
        "from sklearn.datasets import load_iris \n",
        "\n",
        "\n",
        "iris = load_iris()\n",
        "data = iris.data\n",
        "num_clusters = 5\n",
        "iter = 10\n",
        "\n",
        "\n",
        "\n",
        "def distance(point1, point2):\n",
        "\tdis = point1-point2\n",
        "\treturn (np.dot(dis, dis))**.5\n",
        "\n",
        "def create_centroids(data, num_clusters):\n",
        "\tcentroids = []\n",
        "\ta,b = np.shape(data)\n",
        "\tfor j in range(0, num_clusters):\n",
        "\t\ttemp = []\n",
        "\t\tfor i in range(0, b):\n",
        "\t\t\tmaxx = int(max(data[:,i]))\n",
        "\t\t\tminx = int(min(data[:,i]))\n",
        "\t\t\ttemp.append(randrange(minx, maxx)) # Each iteration create a coordinate foe each centroid\n",
        "\t\tcentroids.append(temp)\n",
        "\treturn np.asarray(centroids)\n",
        " \n",
        "def label(data, centroids):\n",
        "\tm, n = np.shape(data)\n",
        "\tlab = []\n",
        "\tfor i in range(0, m):\n",
        "\t\tdis = []\n",
        "\t\tx, y = np.shape(centroids)\n",
        "\t\tfor j in range(0,x): #Move on each centroid\n",
        "\t\t\tdis.append(distance(centroids[j,:], data[i, :]))\n",
        "\t\tlab.append(np.argmin(dis))\n",
        "\treturn np.asarray(lab)\n",
        " \n",
        "def update_centroids(data, labels, centroids):\n",
        "    m, n = np.shape(centroids) #m is the number of centroids\n",
        "    temp_centroid = np.zeros((m,n))\n",
        "    count = np.zeros((m,n))\n",
        "    for j in range(0, len(labels)):\n",
        "        for k in range(0, n):\n",
        "            temp_centroid[labels[j],k]+= data[j,k]\n",
        "            count[labels[j],k]+= 1\n",
        "    for i in range(0,m):\n",
        "        for j in range(0,n):\n",
        "            if count[i,j] == 0:\n",
        "                count[i,j] += 1\n",
        "    return temp_centroid/count\n",
        "\n",
        "def interclus(label,data):\n",
        "  S=0\n",
        "  for i in range(data.shape[0]):\n",
        "    for j in range(data.shape[0]):\n",
        "      S = S + distance(data[i,:],data[j,:])\n",
        "  S = S/2\n",
        "  return S - intraclus(label,data)\n",
        "\n",
        "\n",
        "def intraclus(label,data):\n",
        "  l = num_clusters\n",
        "  T = np.zeros(l)\n",
        "  for k in range(l):\n",
        "    a = data[label==k]\n",
        "    #print(a)\n",
        "    for i in range(len(a)):\n",
        "      for j in range(len(a)):\n",
        "        T[k] += (distance(a[i,:],a[j,:]))\n",
        "    T[k]=T[k]/2\n",
        "  return T.sum()\n",
        "\n",
        "centroids = create_centroids(data, num_clusters)   \n",
        "labels = label(data, centroids)\n",
        "cost = np.zeros(iter)\n",
        "for i in range(iter):\n",
        "  centroids = update_centroids(data, labels, centroids)\n",
        "  labels = label(data, centroids)\n",
        "  cost[i] = intraclus(labels,data)\n",
        "\n",
        "#print(cost)\n",
        "\n",
        "for i in range(num_clusters):\n",
        "  print ('Standard_Deviation of Cluster {} is= {}'.format(i,data[labels==i].std()))\n",
        "  print ('Mean of Cluster {} is= {}'.format(i,data[labels==i].mean()))\n",
        "\n",
        "\n",
        "print ('ratio of intra over inter=', cost[-1]/interclus(label,data))\n",
        "\n",
        "plt.plot(range(iter),cost)\n",
        "\n"
      ],
      "metadata": {
        "colab": {
          "base_uri": "https://localhost:8080/",
          "height": 630
        },
        "id": "W74Q7VkIY6TQ",
        "outputId": "697b7bea-9e8b-4746-a81e-9bee9a766865"
      },
      "execution_count": 1,
      "outputs": [
        {
          "output_type": "stream",
          "name": "stdout",
          "text": [
            "Standard_Deviation of Cluster 0 is= 1.9868106054266816\n",
            "Mean of Cluster 0 is= 4.49765625\n",
            "Standard_Deviation of Cluster 1 is= 1.843716287827387\n",
            "Mean of Cluster 1 is= 2.5355\n",
            "Standard_Deviation of Cluster 2 is= 1.6201714789804735\n",
            "Mean of Cluster 2 is= 3.3153846153846156\n",
            "Standard_Deviation of Cluster 3 is= nan\n",
            "Mean of Cluster 3 is= nan\n",
            "Standard_Deviation of Cluster 4 is= 1.7921288559051216\n",
            "Mean of Cluster 4 is= 3.8755952380952374\n",
            "ratio of intra over inter= 0.08001018462111238\n"
          ]
        },
        {
          "output_type": "stream",
          "name": "stderr",
          "text": [
            "/usr/local/lib/python3.7/dist-packages/numpy/core/_methods.py:234: RuntimeWarning: Degrees of freedom <= 0 for slice\n",
            "  keepdims=keepdims)\n",
            "/usr/local/lib/python3.7/dist-packages/numpy/core/_methods.py:195: RuntimeWarning: invalid value encountered in true_divide\n",
            "  arrmean, rcount, out=arrmean, casting='unsafe', subok=False)\n",
            "/usr/local/lib/python3.7/dist-packages/numpy/core/_methods.py:226: RuntimeWarning: invalid value encountered in double_scalars\n",
            "  ret = ret.dtype.type(ret / rcount)\n",
            "/usr/local/lib/python3.7/dist-packages/ipykernel_launcher.py:89: RuntimeWarning: Mean of empty slice.\n",
            "/usr/local/lib/python3.7/dist-packages/numpy/core/_methods.py:170: RuntimeWarning: invalid value encountered in double_scalars\n",
            "  ret = ret.dtype.type(ret / rcount)\n"
          ]
        },
        {
          "output_type": "execute_result",
          "data": {
            "text/plain": [
              "[<matplotlib.lines.Line2D at 0x7f7469c77ed0>]"
            ]
          },
          "metadata": {},
          "execution_count": 1
        },
        {
          "output_type": "display_data",
          "data": {
            "image/png": "[encoded data removed]",
            "text/plain": [
              "<Figure size 432x288 with 1 Axes>"
            ]
          },
          "metadata": {
            "needs_background": "light"
          }
        }
      ]
    }
  ]
}